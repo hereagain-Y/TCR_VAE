{
  "nbformat": 4,
  "nbformat_minor": 0,
  "metadata": {
    "colab": {
      "provenance": [],
      "collapsed_sections": [],
      "machine_shape": "hm",
      "authorship_tag": "ABX9TyPQSa2Ft676Q4Z2sUellf0T",
      "include_colab_link": true
    },
    "kernelspec": {
      "name": "python3",
      "display_name": "Python 3"
    },
    "language_info": {
      "name": "python"
    },
    "accelerator": "GPU",
    "gpuClass": "standard"
  },
  "cells": [
    {
      "cell_type": "markdown",
      "metadata": {
        "id": "view-in-github",
        "colab_type": "text"
      },
      "source": [
        "<a href=\"https://colab.research.google.com/github/hereagain-Y/TCR_VAE/blob/main/PairedCNN.ipynb\" target=\"_parent\"><img src=\"https://colab.research.google.com/assets/colab-badge.svg\" alt=\"Open In Colab\"/></a>"
      ]
    },
    {
      "cell_type": "code",
      "source": [
        "! pip install Biopython"
      ],
      "metadata": {
        "colab": {
          "base_uri": "https://localhost:8080/"
        },
        "id": "ZbVsbd8NkbAb",
        "outputId": "096f3eef-8d5d-43a2-a2b2-bcdd7d63d653"
      },
      "execution_count": null,
      "outputs": [
        {
          "output_type": "stream",
          "name": "stdout",
          "text": [
            "Looking in indexes: https://pypi.org/simple, https://us-python.pkg.dev/colab-wheels/public/simple/\n",
            "Collecting Biopython\n",
            "  Downloading biopython-1.79-cp37-cp37m-manylinux_2_5_x86_64.manylinux1_x86_64.whl (2.3 MB)\n",
            "\u001b[K     |████████████████████████████████| 2.3 MB 7.4 MB/s \n",
            "\u001b[?25hRequirement already satisfied: numpy in /usr/local/lib/python3.7/dist-packages (from Biopython) (1.21.6)\n",
            "Installing collected packages: Biopython\n",
            "Successfully installed Biopython-1.79\n"
          ]
        }
      ]
    },
    {
      "cell_type": "code",
      "execution_count": null,
      "metadata": {
        "id": "u7GkI8mekUWM"
      },
      "outputs": [],
      "source": [
        "\n",
        "from pkgutil import extend_path\n",
        "import pandas as pd\n",
        "import numpy as np\n",
        "import matplotlib.pyplot as plt\n",
        "\n",
        "from six.moves import xrange\n",
        "import torch\n",
        "import torch.nn as nn\n",
        "import torchvision.transforms as transforms\n",
        "import numpy as np\n",
        "\n",
        "from tqdm import tqdm\n",
        "from torchvision.utils import save_image, make_grid\n",
        "from torch.utils.data import DataLoader, Subset\n",
        "from sklearn.model_selection import train_test_split\n",
        "#\n",
        "from scipy.spatial import distance\n",
        "import random \n",
        "\n",
        "import random\n",
        "from Bio import pairwise2\n",
        "from Bio.Align import substitution_matrices\n",
        "from scipy import spatial\n",
        "from scipy import stats\n",
        "from google.colab import drive"
      ]
    },
    {
      "cell_type": "code",
      "source": [
        "drive.mount('/content/drive')"
      ],
      "metadata": {
        "colab": {
          "base_uri": "https://localhost:8080/"
        },
        "id": "EQqaxbdikvRl",
        "outputId": "9332866c-2f1a-4099-fb96-75e7f679dfe7"
      },
      "execution_count": null,
      "outputs": [
        {
          "output_type": "stream",
          "name": "stdout",
          "text": [
            "Mounted at /content/drive\n"
          ]
        }
      ]
    },
    {
      "cell_type": "code",
      "source": [
        "AAs= ['A', 'R', 'N', 'D', 'C', 'E', 'Q', 'G', 'H', 'I', 'L', 'K', 'M', 'F', 'P', 'S', 'T', 'W', 'Y', 'V']\n",
        "index_code = {}\n",
        "code_index = {}\n",
        "l_max = 20\n",
        "for i in range(len(AAs)):\n",
        "    index_code[i] = AAs[i]\n",
        "    code_index[ AAs[i] ] = i\n",
        "\n",
        "def oneHotEncode(seq, l_max=l_max, index_code=index_code, code_index=code_index):\n",
        "    n_amino = 20\n",
        "    matrix = np.zeros((l_max,n_amino)).astype(int)\n",
        "    for i in range(len(seq)):\n",
        "        matrix[ i , code_index[seq[i]] ] = 1\n",
        "    return matrix\n",
        "\n",
        "# pca encoded \n",
        "pca_index = pd.read_csv(\"/content/drive/My Drive/DL/VAE/AA_indexPCA.csv\")\n",
        "d=pca_index.set_index('Unnamed: 0').T.to_dict('list')\n",
        "\n",
        "\n",
        "# pca normalization\n",
        "data = d.items()\n",
        "list_dat = list(d.values())\n",
        "arr = np.array(list_dat)\n",
        "ex = np.array(arr)\n",
        "ex_norm = (ex-ex.min(axis=0))/(ex.max(axis=0)-ex.min(axis=0))\n",
        "\n",
        "AAs=np.array(list(d.keys()))\n",
        "new_pca = {}\n",
        "\n",
        "for i in np.arange(20):\n",
        "    new_pca[AAs[i]]=ex_norm[i]\n",
        "\n",
        "new_pca\n",
        "d= new_pca\n",
        "\n",
        "def AAindexEncoding(Seq):\n",
        "    length_seq=len(Seq)\n",
        "    global l_max\n",
        "    AAE=np.zeros([l_max,20])\n",
        "    if length_seq<l_max:\n",
        "        for amino in range(length_seq):\n",
        "            AA=Seq[amino]# \n",
        "            AAE[amino,]=d[AA] # add PC value \n",
        "            \n",
        "        for amino in range(length_seq,l_max):\n",
        "            AAE[amino,]=np.zeros(20)\n",
        "    else: \n",
        "        for amino in range(length_seq): # zero padding\n",
        "            AA=Seq[amino]# \n",
        "            AAE[amino,]=d[AA]\n",
        "        \n",
        "    #AAE=np.transpose(AAE.astype(np.float32)) # row as PC. and column as AA sequence \n",
        "    return AAE \n",
        "\n",
        "  \n",
        "def GetFeatures(file):\n",
        "    hot_encode=[]\n",
        "    for seq in file:\n",
        "        hot_encode.append(AAindexEncoding(seq))\n",
        "    hot_encode=np.array(hot_encode)\n",
        "    result=np.array(hot_encode)\n",
        "    return(result)"
      ],
      "metadata": {
        "id": "749mTzxpk1VW"
      },
      "execution_count": null,
      "outputs": []
    },
    {
      "cell_type": "code",
      "source": [
        "matrix = substitution_matrices.load('BLOSUM62')\n",
        "#from Bio.SubsMat import MatrixInfo as matlist\n",
        "#matrix = matlist.blosum62\n",
        "#in 80 max penalty for substitution is -6,\n",
        "open_penalty = -4\n",
        "gap_penalty = -4\n",
        "#\n",
        "def parseMatrix(m):\n",
        "    re = {}\n",
        "    alpha = m.alphabet\n",
        "    for i in range(len(alpha)):\n",
        "        for j in range(i,len(alpha)):\n",
        "            re[(alpha[i],alpha[j])] = m[i,j]\n",
        "    return re\n",
        "align_matrix =  parseMatrix(substitution_matrices.load('BLOSUM62'))"
      ],
      "metadata": {
        "id": "9f0xm7Plk71_"
      },
      "execution_count": null,
      "outputs": []
    },
    {
      "cell_type": "code",
      "source": [
        "seq_test = pd.read_csv('/content/drive/My Drive/DL/VAE/NormalCDR3.txt',delimiter='\\t',header=None,names=['seq'])\n",
        "seq_test['length'] = [len(seq) for seq in seq_test['seq']]\n",
        "\n",
        "seq_test = seq_test[ seq_test['length']<=20 ]\n",
        "seq = list( seq_test['seq'] )\n",
        "seq_x = random.sample(seq,10000)\n",
        "seq_y = random.sample(seq,10000)\n",
        "\n",
        "# alignment on x y \n",
        "score_align=[]\n",
        "for i in range(len(seq_x)):\n",
        "    \n",
        "  alignments = pairwise2.align.localds(seq_x[i], seq_y[i], align_matrix, open=open_penalty, extend=gap_penalty)\n",
        "  score_align.append(alignments[0].score)\n",
        "\n",
        "AA_matx= GetFeatures(seq_x)\n",
        "AA_maty= GetFeatures(seq_y)\n",
        "\n",
        "\n",
        "#seq_train_x = AA_matx # 20*20\n",
        "#seq_train_y = AA_maty\n",
        "\n",
        "#train_data=[]\n",
        "#for i in range(len(AA_matx)):\n",
        "#  train_data.append([AA_matx[i],score_align[i]])\n",
        "trainloader_x = torch.utils.data.DataLoader([ [torch.from_numpy(AA_matx[i]).float(),score_align[i]] for i in range(len(score_align))],  batch_size=1000)\n",
        "#i1, l1 = next(iter(trainloader))\n",
        "#print(l1.shape)\n",
        "trainloader_y = torch.utils.data.DataLoader([ [torch.from_numpy(AA_matx[i]).float(),score_align[i]] for i in range(len(score_align))],  batch_size=1000)"
      ],
      "metadata": {
        "id": "kw1z7_yqlC4B"
      },
      "execution_count": null,
      "outputs": []
    },
    {
      "cell_type": "code",
      "source": [],
      "metadata": {
        "id": "WSNHM7Mv5gm9"
      },
      "execution_count": null,
      "outputs": []
    },
    {
      "cell_type": "code",
      "source": [
        "cuda = False\n",
        "channels =1\n",
        "device = torch.device(\"cuda\" if cuda else \"cpu\")\n",
        "batch_size = 1000\n",
        "latent_dim = 32\n",
        "\n",
        "lr = 1e-3"
      ],
      "metadata": {
        "id": "2FcRexF8lIyb"
      },
      "execution_count": null,
      "outputs": []
    },
    {
      "cell_type": "code",
      "source": [
        "\n",
        "class VAE(nn.Module):\n",
        "    def __init__(self,h_dim=64*10*10, z_dim=32):\n",
        "        super(VAE, self).__init__()\n",
        "        self.encoder = nn.Sequential(\n",
        "            \n",
        "            nn.Conv2d(1, 16, kernel_size=5, stride=1), #16\n",
        "            nn.ReLU(),\n",
        "            nn.Conv2d(16, 32, kernel_size=5, stride=1), # 12\n",
        "            nn.ReLU(),\n",
        "            nn.Conv2d(32, 64, kernel_size=3, stride=1), #10\n",
        "            nn.ReLU()\n",
        "        \n",
        "        )\n",
        "\n",
        "        \n",
        "        \n",
        "        # mean 64*5*5 =\n",
        "        self.fc1 = nn.Linear(h_dim, z_dim)\n",
        "        # var \n",
        "        self.fc2 = nn.Linear(h_dim, z_dim)\n",
        "        # for decoder layer \n",
        "        self.fc3 = nn.Linear(z_dim, h_dim)\n",
        "        \n",
        "        self.decoder = nn.Sequential(\n",
        "            \n",
        "   \n",
        "            nn.ConvTranspose2d(64, 32, kernel_size=3, stride=1),\n",
        "            nn.ReLU(),\n",
        "            nn.ConvTranspose2d(32, 16, kernel_size=5, stride=1),\n",
        "            nn.ReLU(),\n",
        "            nn.ConvTranspose2d(16, 1, kernel_size=5, stride=1),\n",
        "            nn.Sigmoid()\n",
        "        )\n",
        "        \n",
        "    def reparameterize(self, mu):\n",
        "        #std = logvar.mul(0.5).exp_()\n",
        "        # return torch.normal(mu, std)\n",
        "        #esp = torch.randn(*mu.size())\n",
        "        z = mu\n",
        "        return z\n",
        "    \n",
        "    def bottleneck(self, h):\n",
        "        mu= self.fc1(h)\n",
        "        z = self.reparameterize(mu)\n",
        "        return mu, z\n",
        "        \n",
        "    def representation(self, x):\n",
        "        return self.bottleneck(self.encoder(x))[0] # latent layer \n",
        "\n",
        "        \n",
        "    \n",
        "    #def alignmentscore(self,x,y):\n",
        "    #    scores = pairwise2.align.localds(x,y,align_matrix,open=open_penalty,extend=gap_penalty)\n",
        "    #    score_align = scores[0].score\n",
        "    #    return score_align\n",
        "        \n",
        "    def latent(self,x,y):\n",
        "        l1 = self.encoder(x)# 32\n",
        "        l1 = l1.view(-1,64*10*10) # 32\n",
        "        l1, mu1 = self.bottleneck(l1)\n",
        "\n",
        "        l2 = self.encoder(y)# 32\n",
        "        l2 = l2.view(-1,64*10*10) # 32\n",
        "        l2, mu2 = self.bottleneck(l2)\n",
        "        # use cos-simialrity\n",
        "        #latent_dist =np.sqrt( np.sum(np.square(l1 - l2)) )\n",
        "        \n",
        "        \n",
        "        return l1,l2\n",
        "\n",
        "    def forward(self, x,y):\n",
        "      # for dataset 1\n",
        "        h1= self.encoder(x)\n",
        "        h1 = h1.view(-1,64*10*10)\n",
        "        z1, mu1 = self.bottleneck(h1) #\n",
        "        z1 = self.fc3(z1) # 64*10*10\n",
        "        z1 = z1.view(-1,64,10,10)\n",
        "        z1 = self.decoder(z1)\n",
        "      # for dat2   \n",
        "        h2= self.encoder(y)\n",
        "        h2 = h2.view(-1,64*10*10)\n",
        "        z2, mu2 = self.bottleneck(h2)\n",
        "        z2 = self.fc3(z2)\n",
        "        z2 = z2.view(-1,64,10,10)\n",
        "        z2 = self.decoder(z2)\n",
        "        \n",
        "        # aligment \n",
        "        #s = self.alignmentscore(x,y)\n",
        "        # latent distance\n",
        "        l1,l2 = self.latent(x,y)\n",
        "        \n",
        "        \n",
        "        \n",
        "        return z1, mu1,z2,mu2,l1,l2"
      ],
      "metadata": {
        "id": "9HXuQ1mplLH2"
      },
      "execution_count": null,
      "outputs": []
    },
    {
      "cell_type": "code",
      "source": [
        "    \n",
        "model = VAE(h_dim=64*10*10, z_dim=32).to(device)\n",
        "from torch.optim import Adam\n",
        "optimizer = Adam(model.parameters(), lr=lr)\n",
        "\n",
        "def loss_function(reconx,x,recony,y,score,l1,l2):\n",
        "    # reconstruction error:\n",
        "    BCE_x =  nn.functional.binary_cross_entropy(reconx, x, reduction='sum')\n",
        "    BCE_y = nn.functional.binary_cross_entropy(recony, y, reduction='sum')\n",
        "    \n",
        "    # pearson \n",
        "    #score =score.detach().numpy()\n",
        "    #l1 = l1.detach().numpy\n",
        "    #l2 = l2.detach().numpy\n",
        "    #latent = np.sqrt( np.sum(np.square(l1 - l2)))\n",
        "    #corr = stats.pearsonr(score,latent)[0]\n",
        "    dist=torch.nn.functional.pairwise_distance(l1, l2)\n",
        "    vx = score - torch.mean(score)\n",
        "    vy = dist - torch.mean(dist)\n",
        "    corr=torch.sum(vx * vy) / (torch.sqrt(torch.sum(vx ** 2)) * torch.sqrt(torch.sum(vy ** 2))) # pearson\n",
        "    \n",
        "    \n",
        "    \n",
        "    return BCE_x + BCE_y +corr#+ corr, corr"
      ],
      "metadata": {
        "id": "IYl15XL1lSzN"
      },
      "execution_count": null,
      "outputs": []
    },
    {
      "cell_type": "code",
      "source": [],
      "metadata": {
        "id": "MjmTO1q7LJ0h"
      },
      "execution_count": null,
      "outputs": []
    },
    {
      "cell_type": "code",
      "source": [
        "print(model)"
      ],
      "metadata": {
        "colab": {
          "base_uri": "https://localhost:8080/"
        },
        "id": "jI1ldsoP63sm",
        "outputId": "2b719199-b29c-4926-f972-6e839cef418f"
      },
      "execution_count": null,
      "outputs": [
        {
          "output_type": "stream",
          "name": "stdout",
          "text": [
            "VAE(\n",
            "  (encoder): Sequential(\n",
            "    (0): Conv2d(1, 16, kernel_size=(5, 5), stride=(1, 1))\n",
            "    (1): ReLU()\n",
            "    (2): Conv2d(16, 32, kernel_size=(5, 5), stride=(1, 1))\n",
            "    (3): ReLU()\n",
            "    (4): Conv2d(32, 64, kernel_size=(3, 3), stride=(1, 1))\n",
            "    (5): ReLU()\n",
            "  )\n",
            "  (fc1): Linear(in_features=6400, out_features=32, bias=True)\n",
            "  (fc2): Linear(in_features=6400, out_features=32, bias=True)\n",
            "  (fc3): Linear(in_features=32, out_features=6400, bias=True)\n",
            "  (decoder): Sequential(\n",
            "    (0): ConvTranspose2d(64, 32, kernel_size=(3, 3), stride=(1, 1))\n",
            "    (1): ReLU()\n",
            "    (2): ConvTranspose2d(32, 16, kernel_size=(5, 5), stride=(1, 1))\n",
            "    (3): ReLU()\n",
            "    (4): ConvTranspose2d(16, 1, kernel_size=(5, 5), stride=(1, 1))\n",
            "    (5): Sigmoid()\n",
            "  )\n",
            ")\n"
          ]
        }
      ]
    },
    {
      "cell_type": "code",
      "source": [
        "epochs = 500"
      ],
      "metadata": {
        "id": "IwTJ2l77lV2v"
      },
      "execution_count": null,
      "outputs": []
    },
    {
      "cell_type": "code",
      "source": [
        "def plotCurve(x_vals,y_vals,x_label, y_label,\n",
        "              legend=None,figsize=(3.5,2.5)):\n",
        "    plt.xlabel(x_label)\n",
        "    plt.ylabel(y_label)\n",
        "    plt.semilogy(x_vals, y_vals)\n",
        "    \n",
        "    if legend:\n",
        "        plt.legend(legend)\n",
        "\n",
        "model.train()\n",
        "train_loss= []\n",
        "testtoal_loss= []\n",
        "for epoch in range(epochs):\n",
        "    overall_loss = 0\n",
        "    overall_testloss= 0\n",
        "    for batch_idx, data in enumerate(zip(trainloader_x,trainloader_y)):\n",
        "        x= data[0][0]\n",
        "        y= data[1][0]\n",
        "        score = data[0][1]\n",
        "        x = x.view(1000, 1,20,20)\n",
        "        y = y.view(1000,1,20,20)\n",
        "        x = x.to(device)\n",
        "        y = y.to(device)\n",
        "        #zero grad\n",
        "        optimizer.zero_grad()\n",
        "        #----\n",
        "        x_hat, mean_x,y_hat,mean_y,l1,l2= model(x,y)\n",
        "        #l1 = l1.cpu().detach().numpy()\n",
        "        #l2 = l2.cpu().detach().numpy()\n",
        "        #dist = (l1-l2).pow(2).sum(3).sqrt()\n",
        "        #xx = l1.reshape(2,-1)\n",
        "        #yy = l2.reshape(2,-1)\n",
        "\n",
        "        #latent = 1-spatial.distance.cosine(l1, l2)\n",
        "        #corr = stats.pearsonr(score,dist)[0]\n",
        "        #corr = torch.corrcoef()\n",
        "\n",
        "        \n",
        "\n",
        "        loss = loss_function(x_hat,x,y_hat,y,score,l1,l2)\n",
        "        overall_loss += loss.item()  \n",
        "        #back prog\n",
        "        loss.backward()     \n",
        "        optimizer.step()\n",
        "       \n",
        "    if (epoch % 100 == 0):\n",
        "          #print('====> Epoch %d done! Average Loss:  = %.2e, Average test loss = %.2e' % (epoch,overall_loss / (batch_idx*batch_size),overall_testloss/(batch_idx*batch_size)))\n",
        "        \n",
        "        \n",
        "      print(\"\\tEpoch\", epoch , \"complete!\", \"\\tAverage Loss: \", overall_loss / len(AA_matx))#overall_loss / (batch_idx*batch_size),\n",
        "\n",
        "    train_loss.append( overall_loss / len(AA_matx) )\n",
        "\n",
        "\n",
        "torch.save(model, '/content/drive/MyDrive/DL/CNNVAE/Paired_sigmoid_modified_1000_echo_cat_train.apx')\n",
        "print(\"Finish!!\")    \n",
        "print(\"plot curves\")\n",
        "plotCurve(range(1,epochs+1),train_loss,\"epoch\",\"loss\",\n",
        "         \n",
        "          ['train'])\n",
        "print('==train end===')   \n",
        "print('==train end===')   \n",
        "\n"
      ],
      "metadata": {
        "colab": {
          "base_uri": "https://localhost:8080/",
          "height": 440
        },
        "id": "_unXfficlnGP",
        "outputId": "414bd7b4-ff56-481a-98fa-c1bb914d4d55"
      },
      "execution_count": null,
      "outputs": [
        {
          "output_type": "stream",
          "name": "stdout",
          "text": [
            "\tEpoch 0 complete! \tAverage Loss:  315.47218125\n",
            "\tEpoch 100 complete! \tAverage Loss:  306.64525\n",
            "\tEpoch 200 complete! \tAverage Loss:  304.243725\n",
            "\tEpoch 300 complete! \tAverage Loss:  302.610378125\n",
            "\tEpoch 400 complete! \tAverage Loss:  301.55076875\n",
            "Finish!!\n",
            "plot curves\n",
            "==train end===\n",
            "==train end===\n"
          ]
        },
        {
          "output_type": "display_data",
          "data": {
            "text/plain": [
              "<Figure size 432x288 with 1 Axes>"
            ],
            "image/png": "[encoded data removed]"
          },
          "metadata": {
            "needs_background": "light"
          }
        }
      ]
    },
    {
      "cell_type": "code",
      "source": [],
      "metadata": {
        "id": "GA1Z2se0Anon"
      },
      "execution_count": null,
      "outputs": []
    }
  ]
}