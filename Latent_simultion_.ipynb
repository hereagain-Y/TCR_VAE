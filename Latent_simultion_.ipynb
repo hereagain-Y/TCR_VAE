{
  "nbformat": 4,
  "nbformat_minor": 0,
  "metadata": {
    "colab": {
      "provenance": [],
      "collapsed_sections": [],
      "machine_shape": "hm",
      "authorship_tag": "ABX9TyNDPQ6pTQiKGzgjm81fvbmm",
      "include_colab_link": true
    },
    "kernelspec": {
      "name": "python3",
      "display_name": "Python 3"
    },
    "language_info": {
      "name": "python"
    },
    "gpuClass": "standard"
  },
  "cells": [
    {
      "cell_type": "markdown",
      "metadata": {
        "id": "view-in-github",
        "colab_type": "text"
      },
      "source": [
        "<a href=\"https://colab.research.google.com/github/hereagain-Y/TCR_VAE/blob/main/Latent_simultion_.ipynb\" target=\"_parent\"><img src=\"https://colab.research.google.com/assets/colab-badge.svg\" alt=\"Open In Colab\"/></a>"
      ]
    },
    {
      "cell_type": "code",
      "source": [
        "! pip install Biopython"
      ],
      "metadata": {
        "colab": {
          "base_uri": "https://localhost:8080/"
        },
        "id": "ngVcYZoZiEpy",
        "outputId": "907e6156-19e6-4af0-d18a-f6e64f7190f7"
      },
      "execution_count": 1,
      "outputs": [
        {
          "output_type": "stream",
          "name": "stdout",
          "text": [
            "Looking in indexes: https://pypi.org/simple, https://us-python.pkg.dev/colab-wheels/public/simple/\n",
            "Collecting Biopython\n",
            "  Downloading biopython-1.79-cp37-cp37m-manylinux_2_5_x86_64.manylinux1_x86_64.whl (2.3 MB)\n",
            "\u001b[K     |████████████████████████████████| 2.3 MB 5.2 MB/s \n",
            "\u001b[?25hRequirement already satisfied: numpy in /usr/local/lib/python3.7/dist-packages (from Biopython) (1.21.6)\n",
            "Installing collected packages: Biopython\n",
            "Successfully installed Biopython-1.79\n"
          ]
        }
      ]
    },
    {
      "cell_type": "code",
      "execution_count": 2,
      "metadata": {
        "id": "5wAVMDnIh1Gs"
      },
      "outputs": [],
      "source": [
        "from pkgutil import extend_path\n",
        "import pandas as pd\n",
        "import numpy as np\n",
        "import matplotlib.pyplot as plt\n",
        "\n",
        "from six.moves import xrange\n",
        "import torch\n",
        "import torch.nn as nn\n",
        "import torchvision.transforms as transforms\n",
        "import numpy as np\n",
        "\n",
        "from tqdm import tqdm\n",
        "from torchvision.utils import save_image, make_grid\n",
        "from torch.utils.data import DataLoader, Subset\n",
        "from sklearn.model_selection import train_test_split\n",
        "#\n",
        "from scipy.spatial import distance\n",
        "import random \n",
        "\n",
        "import random\n",
        "from Bio import pairwise2\n",
        "from Bio.Align import substitution_matrices\n",
        "from scipy import spatial\n",
        "from scipy import stats\n",
        "\n",
        "from google.colab import drive"
      ]
    },
    {
      "cell_type": "code",
      "source": [
        "drive.mount('/content/drive')"
      ],
      "metadata": {
        "colab": {
          "base_uri": "https://localhost:8080/"
        },
        "id": "b0yiOau-iIh_",
        "outputId": "08abfd46-4091-4488-893d-5d940ff81baf"
      },
      "execution_count": 3,
      "outputs": [
        {
          "output_type": "stream",
          "name": "stdout",
          "text": [
            "Mounted at /content/drive\n"
          ]
        }
      ]
    },
    {
      "cell_type": "code",
      "source": [
        "AAs= ['A', 'R', 'N', 'D', 'C', 'E', 'Q', 'G', 'H', 'I', 'L', 'K', 'M', 'F', 'P', 'S', 'T', 'W', 'Y', 'V']\n",
        "index_code = {}\n",
        "code_index = {}\n",
        "l_max = 20\n",
        "for i in range(len(AAs)):\n",
        "    index_code[i] = AAs[i]\n",
        "    code_index[ AAs[i] ] = i\n",
        "\n",
        "def oneHotEncode(seq, l_max=l_max, index_code=index_code, code_index=code_index):\n",
        "    n_amino = 20\n",
        "    matrix = np.zeros((l_max,n_amino)).astype(int)\n",
        "    for i in range(len(seq)):\n",
        "        matrix[ i , code_index[seq[i]] ] = 1\n",
        "    return matrix\n",
        "\n",
        "# pca encoded \n",
        "pca_index = pd.read_csv(\"/content/drive/My Drive/DL/VAE/AA_indexPCA.csv\")\n",
        "d=pca_index.set_index('Unnamed: 0').T.to_dict('list')\n",
        "\n",
        "\n",
        "# pca normalization\n",
        "data = d.items()\n",
        "list_dat = list(d.values())\n",
        "arr = np.array(list_dat)\n",
        "ex = np.array(arr)\n",
        "ex_norm = (ex-ex.min(axis=0))/(ex.max(axis=0)-ex.min(axis=0))\n",
        "\n",
        "AAs=np.array(list(d.keys()))\n",
        "new_pca = {}\n",
        "\n",
        "for i in np.arange(20):\n",
        "    new_pca[AAs[i]]=ex_norm[i]\n",
        "\n",
        "new_pca\n",
        "d= new_pca\n",
        "\n",
        "def AAindexEncoding(Seq):\n",
        "    length_seq=len(Seq)\n",
        "    global l_max\n",
        "    AAE=np.zeros([l_max,20])\n",
        "    if length_seq<l_max:\n",
        "        for amino in range(length_seq):\n",
        "            AA=Seq[amino]# \n",
        "            AAE[amino,]=d[AA] # add PC value \n",
        "            \n",
        "        for amino in range(length_seq,l_max):\n",
        "            AAE[amino,]=np.zeros(20)\n",
        "    else: \n",
        "        for amino in range(length_seq): # zero padding\n",
        "            AA=Seq[amino]# \n",
        "            AAE[amino,]=d[AA]\n",
        "        \n",
        "    #AAE=np.transpose(AAE.astype(np.float32)) # row as PC. and column as AA sequence \n",
        "    return AAE \n",
        "\n",
        "  \n",
        "def GetFeatures(file):\n",
        "    hot_encode=[]\n",
        "    for seq in file:\n",
        "        hot_encode.append(AAindexEncoding(seq))\n",
        "    hot_encode=np.array(hot_encode)\n",
        "    result=np.array(hot_encode)\n",
        "    return(result)"
      ],
      "metadata": {
        "id": "97qD-AIWiKSp"
      },
      "execution_count": 4,
      "outputs": []
    },
    {
      "cell_type": "code",
      "source": [
        "matrix = substitution_matrices.load('BLOSUM62')\n",
        "#from Bio.SubsMat import MatrixInfo as matlist\n",
        "#matrix = matlist.blosum62\n",
        "#in 80 max penalty for substitution is -6,\n",
        "open_penalty = -4\n",
        "gap_penalty = -4\n",
        "#\n",
        "def parseMatrix(m):\n",
        "    re = {}\n",
        "    alpha = m.alphabet\n",
        "    for i in range(len(alpha)):\n",
        "        for j in range(i,len(alpha)):\n",
        "            re[(alpha[i],alpha[j])] = m[i,j]\n",
        "    return re\n",
        "align_matrix =  parseMatrix(substitution_matrices.load('BLOSUM62'))"
      ],
      "metadata": {
        "id": "LrTTEgTmiWht"
      },
      "execution_count": 5,
      "outputs": []
    },
    {
      "cell_type": "code",
      "source": [
        "seq_test = pd.read_csv('/content/drive/My Drive/DL/VAE/NormalCDR3_test.txt',delimiter='\\t',header=None,names=['seq'])\n",
        "seq_test['length'] = [len(seq) for seq in seq_test['seq']]\n",
        "\n",
        "seq_test = seq_test[ seq_test['length']<=20 ]\n",
        "seq = list( seq_test['seq'] )\n",
        "# random select 10000 sequences \n",
        "seq_x = random.sample(seq,5000)\n",
        "seq_y = random.sample(seq,5000)"
      ],
      "metadata": {
        "id": "TOqtI6GAjCCV"
      },
      "execution_count": 6,
      "outputs": []
    },
    {
      "cell_type": "code",
      "source": [
        "\n",
        "class VAE(nn.Module):\n",
        "    def __init__(self,h_dim=64*10*10, z_dim=32):\n",
        "        super(VAE, self).__init__()\n",
        "        self.encoder = nn.Sequential(\n",
        "            \n",
        "            nn.Conv2d(1, 16, kernel_size=5, stride=1), #16\n",
        "            nn.ReLU(),\n",
        "            nn.Conv2d(16, 32, kernel_size=5, stride=1), # 12\n",
        "            nn.ReLU(),\n",
        "            nn.Conv2d(32, 64, kernel_size=3, stride=1), #10\n",
        "            nn.ReLU()\n",
        "        \n",
        "        )\n",
        "\n",
        "        \n",
        "        \n",
        "        # mean 64*5*5 =\n",
        "        self.fc1 = nn.Linear(h_dim, z_dim)\n",
        "        # var \n",
        "        self.fc2 = nn.Linear(h_dim, z_dim)\n",
        "        # for decoder layer \n",
        "        self.fc3 = nn.Linear(z_dim, h_dim)\n",
        "        \n",
        "        self.decoder = nn.Sequential(\n",
        "            \n",
        "   \n",
        "            nn.ConvTranspose2d(64, 32, kernel_size=3, stride=1),\n",
        "            nn.ReLU(),\n",
        "            nn.ConvTranspose2d(32, 16, kernel_size=5, stride=1),\n",
        "            nn.ReLU(),\n",
        "            nn.ConvTranspose2d(16, 1, kernel_size=5, stride=1),\n",
        "            nn.Sigmoid()\n",
        "        )\n",
        "        \n",
        "    def reparameterize(self, mu):\n",
        "        #std = logvar.mul(0.5).exp_()\n",
        "        # return torch.normal(mu, std)\n",
        "        #esp = torch.randn(*mu.size())\n",
        "        z = mu\n",
        "        return z\n",
        "    \n",
        "    def bottleneck(self, h):\n",
        "        mu= self.fc1(h)\n",
        "        z = self.reparameterize(mu)\n",
        "        return mu, z\n",
        "        \n",
        "    def representation(self, x):\n",
        "        return self.bottleneck(self.encoder(x))[0] # latent layer \n",
        "\n",
        "        \n",
        "    \n",
        "    #def alignmentscore(self,x,y):\n",
        "    #    scores = pairwise2.align.localds(x,y,align_matrix,open=open_penalty,extend=gap_penalty)\n",
        "    #    score_align = scores[0].score\n",
        "    #    return score_align\n",
        "        \n",
        "    def latent(self,x,y):\n",
        "        l1 = self.encoder(x)# 32\n",
        "        l1 = l1.view(-1,64*10*10) # 32\n",
        "        l1, mu1 = self.bottleneck(l1)\n",
        "\n",
        "        l2 = self.encoder(y)# 32\n",
        "        l2 = l2.view(-1,64*10*10) # 32\n",
        "        l2, mu2 = self.bottleneck(l2)\n",
        "        # use cos-simialrity\n",
        "        #latent_dist =np.sqrt( np.sum(np.square(l1 - l2)) )\n",
        "        \n",
        "        \n",
        "        return l1,l2\n",
        "\n",
        "    def forward(self, x,y):\n",
        "      # for dataset 1\n",
        "        h1= self.encoder(x)\n",
        "        h1 = h1.view(-1,64*10*10)\n",
        "        z1, mu1 = self.bottleneck(h1) #\n",
        "        z1 = self.fc3(z1) # 64*10*10\n",
        "        z1 = z1.view(-1,64,10,10)\n",
        "        z1 = self.decoder(z1)\n",
        "      # for dat2   \n",
        "        h2= self.encoder(y)\n",
        "        h2 = h2.view(-1,64*10*10)\n",
        "        z2, mu2 = self.bottleneck(h2)\n",
        "        z2 = self.fc3(z2)\n",
        "        z2 = z2.view(-1,64,10,10)\n",
        "        z2 = self.decoder(z2)\n",
        "        \n",
        "        # aligment \n",
        "        #s = self.alignmentscore(x,y)\n",
        "        # latent distance\n",
        "        l1,l2 = self.latent(x,y)\n",
        "        \n",
        "        \n",
        "        \n",
        "        return z1, mu1,z2,mu2,l1,l2"
      ],
      "metadata": {
        "id": "SyecqKZuiZFq"
      },
      "execution_count": 7,
      "outputs": []
    },
    {
      "cell_type": "code",
      "source": [
        "device = \"cpu\""
      ],
      "metadata": {
        "id": "hoLDW5RVjU8G"
      },
      "execution_count": 10,
      "outputs": []
    },
    {
      "cell_type": "code",
      "source": [
        "model = VAE(h_dim=64*10*10, z_dim=32).to(device)"
      ],
      "metadata": {
        "id": "JmD4txMTihyF"
      },
      "execution_count": 11,
      "outputs": []
    },
    {
      "cell_type": "code",
      "source": [
        "model = torch.load('/content/drive/MyDrive/DL/CNNVAE/Paired_sigmoid_modified_1000_echo_cat_train.apx')"
      ],
      "metadata": {
        "id": "-0WwxmVOiiwA"
      },
      "execution_count": 12,
      "outputs": []
    },
    {
      "cell_type": "markdown",
      "source": [
        "Start simulation "
      ],
      "metadata": {
        "id": "mEJPBn2XioQk"
      }
    },
    {
      "cell_type": "code",
      "source": [
        "\n",
        "n = 10000\n",
        "df_out = pd.DataFrame(columns=['seq1','seq2','alignment_score','latent_dist'])\n",
        "\n",
        "for i in range(n):\n",
        "    if i % 1000 == 0:\n",
        "        print(i)\n",
        "    seq1 = random.sample(seq_x, 1)[0]\n",
        "    seq2 = random.sample(seq_y, 1)[0]\n",
        "    #seq1\n",
        "    mat2 = AAindexEncoding(seq1) # 20*20\n",
        "    #matrix =mat2.reshape((800,))\n",
        "    matrix3 = torch.from_numpy(mat2).float()\n",
        "    # reshape the size \n",
        "    matrix3 = matrix3.view(1,1,20,20)\n",
        "   \n",
        "    #seq2\n",
        "    mat4 = AAindexEncoding(seq2)\n",
        "    #matrix = np.concatenate((mat3,mat4),axis=1).reshape((800,))\n",
        "    matrix4 = torch.from_numpy(mat4).float()\n",
        "    matrix4 = matrix4.view(1,1,20,20)\n",
        "    \n",
        "    latent1  =  model(matrix3,matrix4)[4].cpu().detach().numpy()\n",
        "    latent2  =  model(matrix3,matrix4)[5].cpu().detach().numpy()\n",
        "   \n",
        "    \n",
        "    #alignments\n",
        "    alignments = pairwise2.align.localds(seq1, seq2, align_matrix, open=open_penalty, extend=gap_penalty)\n",
        "    score_align = alignments[0].score\n",
        "    #\n",
        "    latent_dist = np.sqrt( np.sum(np.square(latent1 - latent2)) )\n",
        "    df_out.loc[len(df_out)] = [seq1, seq2, score_align, latent_dist]\n",
        "\n",
        "df_out.to_csv('/content/drive/MyDrive/DL/CNNVAE/Deepcat_data_latent_score1.csv',index=False)\n",
        "\n",
        "import seaborn as sns\n",
        "from scipy import stats\n",
        "import matplotlib.pyplot as plt\n",
        "\n",
        "print(\"start plotting\")\n",
        "sns.scatterplot(x='alignment_score',y='latent_dist',data=df_out,s=4)\n",
        "#sns.lmplot(x='alignment_score',y='latent_dist',data=distance)\n",
        "r,p =stats.pearsonr(df_out['alignment_score'], df_out['latent_dist'])\n",
        "print(r)\n",
        "plt.text(10, 200, 'r={:.2f}'.format(r))\n",
        "plt.savefig('/content/drive/MyDrive/DL/CNNVAE/aligment_score.png')\n"
      ],
      "metadata": {
        "colab": {
          "base_uri": "https://localhost:8080/",
          "height": 494
        },
        "id": "uqR-lc50in_E",
        "outputId": "9c4d3c33-bbde-4c78-8970-ba74752626a4"
      },
      "execution_count": 23,
      "outputs": [
        {
          "output_type": "stream",
          "name": "stdout",
          "text": [
            "0\n",
            "1000\n",
            "2000\n",
            "3000\n",
            "4000\n",
            "5000\n",
            "6000\n",
            "7000\n",
            "8000\n",
            "9000\n",
            "start plotting\n",
            "-0.313735742191133\n"
          ]
        },
        {
          "output_type": "display_data",
          "data": {
            "text/plain": [
              "<Figure size 432x288 with 1 Axes>"
            ],
            "image/png": "[encoded data removed]"
          },
          "metadata": {
            "needs_background": "light"
          }
        }
      ]
    },
    {
      "cell_type": "markdown",
      "source": [
        "Sequence reconstruction "
      ],
      "metadata": {
        "id": "am09ne9omatG"
      }
    },
    {
      "cell_type": "code",
      "source": [
        "print('Read Seq')\n",
        "seq_test = pd.read_csv('/content/drive/My Drive/DL/VAE/NormalCDR3_test.txt',delimiter='\\t',header=None,names=['seq'])\n",
        "seq_test['length'] = [len(seq) for seq in seq_test['seq']]\n",
        "#select seqs <=20 length\n",
        "seq_test = seq_test[ seq_test['length']<=20 ]\n",
        "seq = list( seq_test['seq'] )\n",
        "\n",
        "\n",
        "seq_x = random.sample(seq,5000)\n",
        "seq_y = random.sample(seq,5000)\n",
        "\n",
        "\n",
        "\n",
        "AA_matx= GetFeatures(seq_x)\n",
        "AA_maty= GetFeatures(seq_y)\n",
        "\n",
        "\n",
        "r1_transform_x=torch.from_numpy(AA_matx).float()\n",
        "r1_transform_y=torch.from_numpy(AA_maty).float()\n",
        "\n",
        "\n",
        "\n",
        "m1 =r1_transform_x.view(len(r1_transform_x),1,20,20)\n",
        "m2 =r1_transform_y.view(len(r1_transform_y),1,20,20)\n",
        "x_hat = model(m1,m2)[0]\n",
        "y_hat = model(m1,m2)[2]\n",
        "# get encoding layer? #1000, 20,20\n",
        "#mat2 = model(m2)[2] \n",
        "result1= x_hat.view( 5000,20,20).cpu().detach().numpy()\n",
        "\n",
        "result2= y_hat.view( len(y_hat),20,20 ).cpu().detach().numpy()\n",
        "\n",
        "\n",
        "\n",
        "def Reverse(dict, data):\n",
        "    re=np.zeros(20)\n",
        "        \n",
        "    for i in range(len(data)):\n",
        "        if np.sum(data)==0:\n",
        "            re[i]=0\n",
        "        else: \n",
        "            a_min = dict.min(axis=0)[i]\n",
        "            b_max = dict.max(axis=0)[i]\n",
        "            re[i]= data[i]*(b_max-a_min)+(a_min)\n",
        "    return re\n",
        "\n",
        "\n",
        "\n",
        "def Reversematrix (dict,matrix):\n",
        "\n",
        "    result = []\n",
        "    for i in range(len(matrix)):\n",
        "        result.append(Reverse(dict,matrix[i]))\n",
        "    return np.array(result)\n",
        "## d to array \n",
        "\n",
        "list_dat = list(d.values())\n",
        "arr = np.array(list_dat)\n",
        "ex = np.array(arr)\n",
        "# reverse to original array \n",
        "\n",
        "seq_decode1 = []\n",
        "for i in range(len(result1)):\n",
        "\n",
        "    seq_decode1.append(Reversematrix(ex, result1[i]))\n",
        "    \n",
        "seq_decode2 = []\n",
        "for i in range(len(result2)):\n",
        "\n",
        "    seq_decode2.append(Reversematrix(ex, result2[i]))\n",
        "    \n",
        "print(\"reverted to original scale!\")\n",
        "    \n",
        "print(\"==start reconstuction!--\")\n",
        "# \n",
        "\n",
        "   \n",
        "def reconstructSequence(dict,data):\n",
        "  result = []\n",
        "  for i in range(len(data)):\n",
        "    currentSeq= ''\n",
        "    dict_index=list(dict.keys())\n",
        "    if(i%1000==0):\n",
        "      print(str(i/len(data)*100)+'%')\n",
        "    for j in range(len(data[i])):\n",
        "      row = data[i][j]\n",
        "      max_value= np.max(row)\n",
        "      if max_value <= 0.1:\n",
        "        continue\n",
        "      #calculate distance\n",
        "      dist = []\n",
        "      for key, value in dict.items():\n",
        "        dist.append(distance.euclidean(dict[key], row))\n",
        "      currentSeq += dict_index[np.argmin(dist)]\n",
        "    result.append(currentSeq)\n",
        "  return result  \n",
        "\n",
        "\n",
        "\n",
        "seq_decode1= reconstructSequence(d,seq_decode1)\n",
        "\n",
        "seq_decode2= reconstructSequence(d,seq_decode2)\n",
        "print(\"Sequence reconstructed!\")\n",
        "\n",
        "#seq_decode2= ReconstructSeq(result2)\n",
        "df = pd.DataFrame(columns=['seq_original_x','seq_original_y','seq_model_x','seq_model_y'])\n",
        "df['seq_original'] = seq_x\n",
        "df['seq_original_y']=seq_y\n",
        "\n",
        "df['seq_model_x'] = seq_decode1\n",
        "df['seq_model_y'] = seq_decode2\n",
        "\n",
        "print(\"calculate accuracy\")\n",
        "print( len(df[df['seq_original_x']==df['seq_model_x']])/len(df) )\n",
        "print( len(df[df['seq_original_y']==df['seq_model_y']])/len(df) )\n",
        "\n",
        "df.to_csv('/content/drive/MyDrive/DL/CNNVAE/pairedAE_test_AA_seq1.csv',index=False)\n",
        "\n",
        "        "
      ],
      "metadata": {
        "colab": {
          "base_uri": "https://localhost:8080/"
        },
        "id": "AbAGTCgymaRS",
        "outputId": "2c5d2b2c-71cc-4370-e665-fc0fd1cfd808"
      },
      "execution_count": 32,
      "outputs": [
        {
          "output_type": "stream",
          "name": "stdout",
          "text": [
            "Read Seq\n",
            "reverted to original scale!\n",
            "==start reconstuction!--\n",
            "0.0%\n",
            "20.0%\n",
            "40.0%\n",
            "60.0%\n",
            "80.0%\n",
            "0.0%\n",
            "20.0%\n",
            "40.0%\n",
            "60.0%\n",
            "80.0%\n",
            "Sequence reconstructed!\n",
            "calculate accuracy\n",
            "0.0\n",
            "0.3868\n"
          ]
        }
      ]
    },
    {
      "cell_type": "code",
      "source": [
        "r1_transform_x=torch.from_numpy(AA_matx).float()\n",
        "r1_transform_y=torch.from_numpy(AA_maty).float()\n",
        "\n",
        "\n",
        "\n",
        "m1 =r1_transform_x.view(len(r1_transform_x),1,20,20)\n",
        "m2 =r1_transform_y.view(len(r1_transform_y),1,20,20)"
      ],
      "metadata": {
        "id": "gZq0VeHhppkm"
      },
      "execution_count": null,
      "outputs": []
    },
    {
      "cell_type": "code",
      "source": [
        "print(m1.shape)\n",
        "x_hat = model(m1,m2)[0]\n"
      ],
      "metadata": {
        "colab": {
          "base_uri": "https://localhost:8080/"
        },
        "id": "IlLd1BdhpuD4",
        "outputId": "20be9e7f-f900-4cc2-b65f-64c70838ae03"
      },
      "execution_count": 27,
      "outputs": [
        {
          "output_type": "stream",
          "name": "stdout",
          "text": [
            "torch.Size([5000, 1, 20, 20])\n",
            "5000\n"
          ]
        }
      ]
    },
    {
      "cell_type": "code",
      "source": [
        "print(x_hat.shape)"
      ],
      "metadata": {
        "colab": {
          "base_uri": "https://localhost:8080/"
        },
        "id": "WI9vCjOPsDJN",
        "outputId": "27f0105b-1866-415a-8c8f-4f01322d0f96"
      },
      "execution_count": 28,
      "outputs": [
        {
          "output_type": "stream",
          "name": "stdout",
          "text": [
            "torch.Size([5000, 1, 20, 20])\n"
          ]
        }
      ]
    },
    {
      "cell_type": "code",
      "source": [
        "result1= x_hat.view( 5000,20,20 ).cpu().detach().numpy()"
      ],
      "metadata": {
        "id": "wVo64YfSsN9N"
      },
      "execution_count": 31,
      "outputs": []
    },
    {
      "cell_type": "code",
      "source": [
        "result1.shape"
      ],
      "metadata": {
        "colab": {
          "base_uri": "https://localhost:8080/"
        },
        "id": "awwqFWazsO0R",
        "outputId": "0e520845-b67c-48a8-ccbb-0967fe0ab620"
      },
      "execution_count": 30,
      "outputs": [
        {
          "output_type": "execute_result",
          "data": {
            "text/plain": [
              "(5000, 1, 20, 20)"
            ]
          },
          "metadata": {},
          "execution_count": 30
        }
      ]
    }
  ]
}